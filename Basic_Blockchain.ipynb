{
 "cells": [
  {
   "cell_type": "code",
   "execution_count": 1,
   "id": "e1046f94-d9c2-42f6-ae00-439fea771d93",
   "metadata": {},
   "outputs": [],
   "source": [
    "class Block:\n",
    "    def __init__(self, index, transactions, timestamp, previous_hash, nonce=0):\n",
    "        self.index = index\n",
    "        self.transactions = transactions\n",
    "        self.timestamp = timestamp\n",
    "        self.previous_hash = previous_hash\n",
    "        self.nonce = nonce\n",
    "    \n",
    "    def compute_hash(self) -> str:\n",
    "        block_string = json.dumps(self.__dict__, sort_keys=True)\n",
    "        print(block_string)\n",
    "        return sha256(block_string.encode()).hexdigest()"
   ]
  },
  {
   "cell_type": "code",
   "execution_count": 2,
   "id": "e7a4a1fd-8116-433d-8a6d-450baf55a2a5",
   "metadata": {},
   "outputs": [],
   "source": [
    "import json\n",
    "import hashlib\n",
    "import datetime\n",
    "from hashlib import sha256\n",
    "\n",
    "tx_1 = {\n",
    "   \"addr_from\": \"3J98t1WpEZ73CNmQviecrnyiWrnqRhWNLy\",\n",
    "   \"addr_to\": \"1BvBMSEYstWetqTFn5Au4m4GFg7xJaNVN2\",   \n",
    "   \"amount\": 99.00\n",
    "}"
   ]
  },
  {
   "cell_type": "code",
   "execution_count": 3,
   "id": "303b1dc0-6cb0-4712-b1f0-5a81063f2586",
   "metadata": {},
   "outputs": [],
   "source": [
    "import time\n",
    "class Blockchain: \n",
    "    def __init__(self):\n",
    "        self.unconfirmed_transactions = []\n",
    "        self.chain = []\n",
    "        self.difficulty = 2\n",
    "        self.create_genesis_block()\n",
    " \n",
    "    def create_genesis_block(self):\n",
    "        genesis_block = Block(0, [], time.time(), \"0\")\n",
    "        genesis_block.hash = genesis_block.compute_hash()\n",
    "        self.chain.append(genesis_block)\n",
    "    @property\n",
    "    def last_block(self):\n",
    "        return self.chain[-1]"
   ]
  },
  {
   "cell_type": "code",
   "execution_count": 4,
   "id": "a091de76-c56b-4977-8a73-bfd71043f13f",
   "metadata": {},
   "outputs": [],
   "source": [
    "difficulty = 2\n",
    "def proof_of_work(self, block):\n",
    "        block.nonce = 0\n",
    "        computed_hash = block.compute_hash()\n",
    "        while not computed_hash.startswith('0' * Blockchain.difficulty):\n",
    "            block.nonce += 1\n",
    "            computed_hash = block.compute_hash()\n",
    "        return computed_hash"
   ]
  },
  {
   "cell_type": "code",
   "execution_count": 5,
   "id": "0de35869-6012-43e8-a1e1-a7a67bdcdb05",
   "metadata": {},
   "outputs": [],
   "source": [
    "def is_valid_proof(self, block, block_hash):\n",
    "        return (block_hash.startswith('0' * Blockchain.difficulty) and\n",
    "                block_hash == block.compute_hash())\n"
   ]
  },
  {
   "cell_type": "code",
   "execution_count": 6,
   "id": "887968e6-c717-492e-862d-39c5a5138264",
   "metadata": {},
   "outputs": [],
   "source": [
    "def add_block(self, block, proof):\n",
    "        previous_hash = self.last_block.hash\n",
    "        if previous_hash != block.previous_hash:\n",
    "            return False\n",
    "        if not self.is_valid_proof(block, proof):\n",
    "            return False\n",
    "        block.hash = proof\n",
    "        self.chain.append(block)\n",
    "        return True"
   ]
  },
  {
   "cell_type": "code",
   "execution_count": 7,
   "id": "a04a2c35-cd31-4fc2-97be-f33f9877981a",
   "metadata": {},
   "outputs": [],
   "source": [
    "def add_new_transaction(self, transaction):\n",
    "            self.unconfirmed_transactions.append(transaction)"
   ]
  },
  {
   "cell_type": "code",
   "execution_count": 8,
   "id": "1db8479a-370e-47ae-b9ea-c50619a85bee",
   "metadata": {},
   "outputs": [],
   "source": [
    "def mine(self):\n",
    "        if not self.unconfirmed_transactions:\n",
    "            return False\n",
    " \n",
    "        last_block = self.last_block\n",
    " \n",
    "        new_block = Block(index=last_block.index + 1,\n",
    "                          transactions=self.unconfirmed_transactions,\n",
    "                          timestamp=time.time(),\n",
    "                          previous_hash=last_block.hash)\n",
    " \n",
    "        proof = self.proof_of_work(new_block)\n",
    "        self.add_block(new_block, proof)\n",
    "        self.unconfirmed_transactions = []\n",
    "        return new_block.index"
   ]
  },
  {
   "cell_type": "code",
   "execution_count": null,
   "id": "563c3ccb-073e-4c4a-812a-d523578c1b8a",
   "metadata": {},
   "outputs": [],
   "source": []
  }
 ],
 "metadata": {
  "kernelspec": {
   "display_name": "Python 3",
   "language": "python",
   "name": "python3"
  },
  "language_info": {
   "codemirror_mode": {
    "name": "ipython",
    "version": 3
   },
   "file_extension": ".py",
   "mimetype": "text/x-python",
   "name": "python",
   "nbconvert_exporter": "python",
   "pygments_lexer": "ipython3",
   "version": "3.8.8"
  }
 },
 "nbformat": 4,
 "nbformat_minor": 5
}
